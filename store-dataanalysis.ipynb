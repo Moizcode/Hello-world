{
 "cells": [
  {
   "cell_type": "code",
   "execution_count": 1,
   "id": "bf8de014",
   "metadata": {
    "_cell_guid": "b1076dfc-b9ad-4769-8c92-a6c4dae69d19",
    "_uuid": "8f2839f25d086af736a60e9eeb907d3b93b6e0e5",
    "execution": {
     "iopub.execute_input": "2022-03-12T09:47:17.978155Z",
     "iopub.status.busy": "2022-03-12T09:47:17.976458Z",
     "iopub.status.idle": "2022-03-12T09:47:17.994633Z",
     "shell.execute_reply": "2022-03-12T09:47:17.995208Z",
     "shell.execute_reply.started": "2022-03-12T09:17:23.044893Z"
    },
    "papermill": {
     "duration": 0.03688,
     "end_time": "2022-03-12T09:47:17.995503",
     "exception": false,
     "start_time": "2022-03-12T09:47:17.958623",
     "status": "completed"
    },
    "tags": []
   },
   "outputs": [
    {
     "name": "stdout",
     "output_type": "stream",
     "text": [
      "/kaggle/input/superstore-dataset-final/Sample - Superstore.csv\n"
     ]
    }
   ],
   "source": [
    "# This Python 3 environment comes with many helpful analytics libraries installed\n",
    "# It is defined by the kaggle/python Docker image: https://github.com/kaggle/docker-python\n",
    "# For example, here's several helpful packages to load\n",
    "\n",
    "import numpy as np # linear algebra\n",
    "import pandas as pd # data processing, CSV file I/O (e.g. pd.read_csv)\n",
    "\n",
    "# Input data files are available in the read-only \"../input/\" directory\n",
    "# For example, running this (by clicking run or pressing Shift+Enter) will list all files under the input directory\n",
    "\n",
    "import os\n",
    "for dirname, _, filenames in os.walk('/kaggle/input'):\n",
    "    for filename in filenames:\n",
    "        print(os.path.join(dirname, filename))\n",
    "\n",
    "# You can write up to 20GB to the current directory (/kaggle/working/) that gets preserved as output when you create a version using \"Save & Run All\" \n",
    "# You can also write temporary files to /kaggle/temp/, but they won't be saved outside of the current session"
   ]
  },
  {
   "cell_type": "code",
   "execution_count": 2,
   "id": "9fa01e5b",
   "metadata": {
    "execution": {
     "iopub.execute_input": "2022-03-12T09:47:18.024643Z",
     "iopub.status.busy": "2022-03-12T09:47:18.023727Z",
     "iopub.status.idle": "2022-03-12T09:47:18.145334Z",
     "shell.execute_reply": "2022-03-12T09:47:18.145843Z",
     "shell.execute_reply.started": "2022-03-12T09:17:23.095408Z"
    },
    "papermill": {
     "duration": 0.13761,
     "end_time": "2022-03-12T09:47:18.146145",
     "exception": false,
     "start_time": "2022-03-12T09:47:18.008535",
     "status": "completed"
    },
    "tags": []
   },
   "outputs": [],
   "source": [
    "store_data = pd.read_csv('../input/superstore-dataset-final/Sample - Superstore.csv',encoding='windows-1252')"
   ]
  },
  {
   "cell_type": "code",
   "execution_count": 3,
   "id": "a5b06abe",
   "metadata": {
    "execution": {
     "iopub.execute_input": "2022-03-12T09:47:18.175250Z",
     "iopub.status.busy": "2022-03-12T09:47:18.174579Z",
     "iopub.status.idle": "2022-03-12T09:47:18.186653Z",
     "shell.execute_reply": "2022-03-12T09:47:18.187152Z",
     "shell.execute_reply.started": "2022-03-12T09:17:23.231503Z"
    },
    "papermill": {
     "duration": 0.028411,
     "end_time": "2022-03-12T09:47:18.187322",
     "exception": false,
     "start_time": "2022-03-12T09:47:18.158911",
     "status": "completed"
    },
    "tags": []
   },
   "outputs": [],
   "source": [
    "del store_data['Row ID']"
   ]
  },
  {
   "cell_type": "code",
   "execution_count": 4,
   "id": "1dd93f78",
   "metadata": {
    "execution": {
     "iopub.execute_input": "2022-03-12T09:47:18.216070Z",
     "iopub.status.busy": "2022-03-12T09:47:18.215417Z",
     "iopub.status.idle": "2022-03-12T09:47:18.241933Z",
     "shell.execute_reply": "2022-03-12T09:47:18.242342Z",
     "shell.execute_reply.started": "2022-03-12T09:17:23.250382Z"
    },
    "papermill": {
     "duration": 0.042051,
     "end_time": "2022-03-12T09:47:18.242508",
     "exception": false,
     "start_time": "2022-03-12T09:47:18.200457",
     "status": "completed"
    },
    "tags": []
   },
   "outputs": [
    {
     "name": "stdout",
     "output_type": "stream",
     "text": [
      "<class 'pandas.core.frame.DataFrame'>\n",
      "RangeIndex: 9994 entries, 0 to 9993\n",
      "Data columns (total 20 columns):\n",
      " #   Column         Non-Null Count  Dtype  \n",
      "---  ------         --------------  -----  \n",
      " 0   Order ID       9994 non-null   object \n",
      " 1   Order Date     9994 non-null   object \n",
      " 2   Ship Date      9994 non-null   object \n",
      " 3   Ship Mode      9994 non-null   object \n",
      " 4   Customer ID    9994 non-null   object \n",
      " 5   Customer Name  9994 non-null   object \n",
      " 6   Segment        9994 non-null   object \n",
      " 7   Country        9994 non-null   object \n",
      " 8   City           9994 non-null   object \n",
      " 9   State          9994 non-null   object \n",
      " 10  Postal Code    9994 non-null   int64  \n",
      " 11  Region         9994 non-null   object \n",
      " 12  Product ID     9994 non-null   object \n",
      " 13  Category       9994 non-null   object \n",
      " 14  Sub-Category   9994 non-null   object \n",
      " 15  Product Name   9994 non-null   object \n",
      " 16  Sales          9994 non-null   float64\n",
      " 17  Quantity       9994 non-null   int64  \n",
      " 18  Discount       9994 non-null   float64\n",
      " 19  Profit         9994 non-null   float64\n",
      "dtypes: float64(3), int64(2), object(15)\n",
      "memory usage: 1.5+ MB\n"
     ]
    }
   ],
   "source": [
    "store_data.info()"
   ]
  },
  {
   "cell_type": "code",
   "execution_count": 5,
   "id": "d5a1c7d5",
   "metadata": {
    "execution": {
     "iopub.execute_input": "2022-03-12T09:47:18.276745Z",
     "iopub.status.busy": "2022-03-12T09:47:18.276002Z",
     "iopub.status.idle": "2022-03-12T09:47:18.302985Z",
     "shell.execute_reply": "2022-03-12T09:47:18.303441Z",
     "shell.execute_reply.started": "2022-03-12T09:17:23.300748Z"
    },
    "papermill": {
     "duration": 0.048454,
     "end_time": "2022-03-12T09:47:18.303606",
     "exception": false,
     "start_time": "2022-03-12T09:47:18.255152",
     "status": "completed"
    },
    "tags": []
   },
   "outputs": [
    {
     "data": {
      "text/html": [
       "<div>\n",
       "<style scoped>\n",
       "    .dataframe tbody tr th:only-of-type {\n",
       "        vertical-align: middle;\n",
       "    }\n",
       "\n",
       "    .dataframe tbody tr th {\n",
       "        vertical-align: top;\n",
       "    }\n",
       "\n",
       "    .dataframe thead th {\n",
       "        text-align: right;\n",
       "    }\n",
       "</style>\n",
       "<table border=\"1\" class=\"dataframe\">\n",
       "  <thead>\n",
       "    <tr style=\"text-align: right;\">\n",
       "      <th></th>\n",
       "      <th>Order ID</th>\n",
       "      <th>Order Date</th>\n",
       "      <th>Ship Date</th>\n",
       "      <th>Ship Mode</th>\n",
       "      <th>Customer ID</th>\n",
       "      <th>Customer Name</th>\n",
       "      <th>Segment</th>\n",
       "      <th>Country</th>\n",
       "      <th>City</th>\n",
       "      <th>State</th>\n",
       "      <th>Postal Code</th>\n",
       "      <th>Region</th>\n",
       "      <th>Product ID</th>\n",
       "      <th>Category</th>\n",
       "      <th>Sub-Category</th>\n",
       "      <th>Product Name</th>\n",
       "      <th>Sales</th>\n",
       "      <th>Quantity</th>\n",
       "      <th>Discount</th>\n",
       "      <th>Profit</th>\n",
       "    </tr>\n",
       "  </thead>\n",
       "  <tbody>\n",
       "    <tr>\n",
       "      <th>0</th>\n",
       "      <td>CA-2016-152156</td>\n",
       "      <td>11/8/2016</td>\n",
       "      <td>11/11/2016</td>\n",
       "      <td>Second Class</td>\n",
       "      <td>CG-12520</td>\n",
       "      <td>Claire Gute</td>\n",
       "      <td>Consumer</td>\n",
       "      <td>United States</td>\n",
       "      <td>Henderson</td>\n",
       "      <td>Kentucky</td>\n",
       "      <td>42420</td>\n",
       "      <td>South</td>\n",
       "      <td>FUR-BO-10001798</td>\n",
       "      <td>Furniture</td>\n",
       "      <td>Bookcases</td>\n",
       "      <td>Bush Somerset Collection Bookcase</td>\n",
       "      <td>261.9600</td>\n",
       "      <td>2</td>\n",
       "      <td>0.00</td>\n",
       "      <td>41.9136</td>\n",
       "    </tr>\n",
       "    <tr>\n",
       "      <th>1</th>\n",
       "      <td>CA-2016-152156</td>\n",
       "      <td>11/8/2016</td>\n",
       "      <td>11/11/2016</td>\n",
       "      <td>Second Class</td>\n",
       "      <td>CG-12520</td>\n",
       "      <td>Claire Gute</td>\n",
       "      <td>Consumer</td>\n",
       "      <td>United States</td>\n",
       "      <td>Henderson</td>\n",
       "      <td>Kentucky</td>\n",
       "      <td>42420</td>\n",
       "      <td>South</td>\n",
       "      <td>FUR-CH-10000454</td>\n",
       "      <td>Furniture</td>\n",
       "      <td>Chairs</td>\n",
       "      <td>Hon Deluxe Fabric Upholstered Stacking Chairs,...</td>\n",
       "      <td>731.9400</td>\n",
       "      <td>3</td>\n",
       "      <td>0.00</td>\n",
       "      <td>219.5820</td>\n",
       "    </tr>\n",
       "    <tr>\n",
       "      <th>2</th>\n",
       "      <td>CA-2016-138688</td>\n",
       "      <td>6/12/2016</td>\n",
       "      <td>6/16/2016</td>\n",
       "      <td>Second Class</td>\n",
       "      <td>DV-13045</td>\n",
       "      <td>Darrin Van Huff</td>\n",
       "      <td>Corporate</td>\n",
       "      <td>United States</td>\n",
       "      <td>Los Angeles</td>\n",
       "      <td>California</td>\n",
       "      <td>90036</td>\n",
       "      <td>West</td>\n",
       "      <td>OFF-LA-10000240</td>\n",
       "      <td>Office Supplies</td>\n",
       "      <td>Labels</td>\n",
       "      <td>Self-Adhesive Address Labels for Typewriters b...</td>\n",
       "      <td>14.6200</td>\n",
       "      <td>2</td>\n",
       "      <td>0.00</td>\n",
       "      <td>6.8714</td>\n",
       "    </tr>\n",
       "    <tr>\n",
       "      <th>3</th>\n",
       "      <td>US-2015-108966</td>\n",
       "      <td>10/11/2015</td>\n",
       "      <td>10/18/2015</td>\n",
       "      <td>Standard Class</td>\n",
       "      <td>SO-20335</td>\n",
       "      <td>Sean O'Donnell</td>\n",
       "      <td>Consumer</td>\n",
       "      <td>United States</td>\n",
       "      <td>Fort Lauderdale</td>\n",
       "      <td>Florida</td>\n",
       "      <td>33311</td>\n",
       "      <td>South</td>\n",
       "      <td>FUR-TA-10000577</td>\n",
       "      <td>Furniture</td>\n",
       "      <td>Tables</td>\n",
       "      <td>Bretford CR4500 Series Slim Rectangular Table</td>\n",
       "      <td>957.5775</td>\n",
       "      <td>5</td>\n",
       "      <td>0.45</td>\n",
       "      <td>-383.0310</td>\n",
       "    </tr>\n",
       "    <tr>\n",
       "      <th>4</th>\n",
       "      <td>US-2015-108966</td>\n",
       "      <td>10/11/2015</td>\n",
       "      <td>10/18/2015</td>\n",
       "      <td>Standard Class</td>\n",
       "      <td>SO-20335</td>\n",
       "      <td>Sean O'Donnell</td>\n",
       "      <td>Consumer</td>\n",
       "      <td>United States</td>\n",
       "      <td>Fort Lauderdale</td>\n",
       "      <td>Florida</td>\n",
       "      <td>33311</td>\n",
       "      <td>South</td>\n",
       "      <td>OFF-ST-10000760</td>\n",
       "      <td>Office Supplies</td>\n",
       "      <td>Storage</td>\n",
       "      <td>Eldon Fold 'N Roll Cart System</td>\n",
       "      <td>22.3680</td>\n",
       "      <td>2</td>\n",
       "      <td>0.20</td>\n",
       "      <td>2.5164</td>\n",
       "    </tr>\n",
       "    <tr>\n",
       "      <th>...</th>\n",
       "      <td>...</td>\n",
       "      <td>...</td>\n",
       "      <td>...</td>\n",
       "      <td>...</td>\n",
       "      <td>...</td>\n",
       "      <td>...</td>\n",
       "      <td>...</td>\n",
       "      <td>...</td>\n",
       "      <td>...</td>\n",
       "      <td>...</td>\n",
       "      <td>...</td>\n",
       "      <td>...</td>\n",
       "      <td>...</td>\n",
       "      <td>...</td>\n",
       "      <td>...</td>\n",
       "      <td>...</td>\n",
       "      <td>...</td>\n",
       "      <td>...</td>\n",
       "      <td>...</td>\n",
       "      <td>...</td>\n",
       "    </tr>\n",
       "    <tr>\n",
       "      <th>9989</th>\n",
       "      <td>CA-2014-110422</td>\n",
       "      <td>1/21/2014</td>\n",
       "      <td>1/23/2014</td>\n",
       "      <td>Second Class</td>\n",
       "      <td>TB-21400</td>\n",
       "      <td>Tom Boeckenhauer</td>\n",
       "      <td>Consumer</td>\n",
       "      <td>United States</td>\n",
       "      <td>Miami</td>\n",
       "      <td>Florida</td>\n",
       "      <td>33180</td>\n",
       "      <td>South</td>\n",
       "      <td>FUR-FU-10001889</td>\n",
       "      <td>Furniture</td>\n",
       "      <td>Furnishings</td>\n",
       "      <td>Ultra Door Pull Handle</td>\n",
       "      <td>25.2480</td>\n",
       "      <td>3</td>\n",
       "      <td>0.20</td>\n",
       "      <td>4.1028</td>\n",
       "    </tr>\n",
       "    <tr>\n",
       "      <th>9990</th>\n",
       "      <td>CA-2017-121258</td>\n",
       "      <td>2/26/2017</td>\n",
       "      <td>3/3/2017</td>\n",
       "      <td>Standard Class</td>\n",
       "      <td>DB-13060</td>\n",
       "      <td>Dave Brooks</td>\n",
       "      <td>Consumer</td>\n",
       "      <td>United States</td>\n",
       "      <td>Costa Mesa</td>\n",
       "      <td>California</td>\n",
       "      <td>92627</td>\n",
       "      <td>West</td>\n",
       "      <td>FUR-FU-10000747</td>\n",
       "      <td>Furniture</td>\n",
       "      <td>Furnishings</td>\n",
       "      <td>Tenex B1-RE Series Chair Mats for Low Pile Car...</td>\n",
       "      <td>91.9600</td>\n",
       "      <td>2</td>\n",
       "      <td>0.00</td>\n",
       "      <td>15.6332</td>\n",
       "    </tr>\n",
       "    <tr>\n",
       "      <th>9991</th>\n",
       "      <td>CA-2017-121258</td>\n",
       "      <td>2/26/2017</td>\n",
       "      <td>3/3/2017</td>\n",
       "      <td>Standard Class</td>\n",
       "      <td>DB-13060</td>\n",
       "      <td>Dave Brooks</td>\n",
       "      <td>Consumer</td>\n",
       "      <td>United States</td>\n",
       "      <td>Costa Mesa</td>\n",
       "      <td>California</td>\n",
       "      <td>92627</td>\n",
       "      <td>West</td>\n",
       "      <td>TEC-PH-10003645</td>\n",
       "      <td>Technology</td>\n",
       "      <td>Phones</td>\n",
       "      <td>Aastra 57i VoIP phone</td>\n",
       "      <td>258.5760</td>\n",
       "      <td>2</td>\n",
       "      <td>0.20</td>\n",
       "      <td>19.3932</td>\n",
       "    </tr>\n",
       "    <tr>\n",
       "      <th>9992</th>\n",
       "      <td>CA-2017-121258</td>\n",
       "      <td>2/26/2017</td>\n",
       "      <td>3/3/2017</td>\n",
       "      <td>Standard Class</td>\n",
       "      <td>DB-13060</td>\n",
       "      <td>Dave Brooks</td>\n",
       "      <td>Consumer</td>\n",
       "      <td>United States</td>\n",
       "      <td>Costa Mesa</td>\n",
       "      <td>California</td>\n",
       "      <td>92627</td>\n",
       "      <td>West</td>\n",
       "      <td>OFF-PA-10004041</td>\n",
       "      <td>Office Supplies</td>\n",
       "      <td>Paper</td>\n",
       "      <td>It's Hot Message Books with Stickers, 2 3/4\" x 5\"</td>\n",
       "      <td>29.6000</td>\n",
       "      <td>4</td>\n",
       "      <td>0.00</td>\n",
       "      <td>13.3200</td>\n",
       "    </tr>\n",
       "    <tr>\n",
       "      <th>9993</th>\n",
       "      <td>CA-2017-119914</td>\n",
       "      <td>5/4/2017</td>\n",
       "      <td>5/9/2017</td>\n",
       "      <td>Second Class</td>\n",
       "      <td>CC-12220</td>\n",
       "      <td>Chris Cortes</td>\n",
       "      <td>Consumer</td>\n",
       "      <td>United States</td>\n",
       "      <td>Westminster</td>\n",
       "      <td>California</td>\n",
       "      <td>92683</td>\n",
       "      <td>West</td>\n",
       "      <td>OFF-AP-10002684</td>\n",
       "      <td>Office Supplies</td>\n",
       "      <td>Appliances</td>\n",
       "      <td>Acco 7-Outlet Masterpiece Power Center, Wihtou...</td>\n",
       "      <td>243.1600</td>\n",
       "      <td>2</td>\n",
       "      <td>0.00</td>\n",
       "      <td>72.9480</td>\n",
       "    </tr>\n",
       "  </tbody>\n",
       "</table>\n",
       "<p>9994 rows × 20 columns</p>\n",
       "</div>"
      ],
      "text/plain": [
       "            Order ID  Order Date   Ship Date       Ship Mode Customer ID  \\\n",
       "0     CA-2016-152156   11/8/2016  11/11/2016    Second Class    CG-12520   \n",
       "1     CA-2016-152156   11/8/2016  11/11/2016    Second Class    CG-12520   \n",
       "2     CA-2016-138688   6/12/2016   6/16/2016    Second Class    DV-13045   \n",
       "3     US-2015-108966  10/11/2015  10/18/2015  Standard Class    SO-20335   \n",
       "4     US-2015-108966  10/11/2015  10/18/2015  Standard Class    SO-20335   \n",
       "...              ...         ...         ...             ...         ...   \n",
       "9989  CA-2014-110422   1/21/2014   1/23/2014    Second Class    TB-21400   \n",
       "9990  CA-2017-121258   2/26/2017    3/3/2017  Standard Class    DB-13060   \n",
       "9991  CA-2017-121258   2/26/2017    3/3/2017  Standard Class    DB-13060   \n",
       "9992  CA-2017-121258   2/26/2017    3/3/2017  Standard Class    DB-13060   \n",
       "9993  CA-2017-119914    5/4/2017    5/9/2017    Second Class    CC-12220   \n",
       "\n",
       "         Customer Name    Segment        Country             City       State  \\\n",
       "0          Claire Gute   Consumer  United States        Henderson    Kentucky   \n",
       "1          Claire Gute   Consumer  United States        Henderson    Kentucky   \n",
       "2      Darrin Van Huff  Corporate  United States      Los Angeles  California   \n",
       "3       Sean O'Donnell   Consumer  United States  Fort Lauderdale     Florida   \n",
       "4       Sean O'Donnell   Consumer  United States  Fort Lauderdale     Florida   \n",
       "...                ...        ...            ...              ...         ...   \n",
       "9989  Tom Boeckenhauer   Consumer  United States            Miami     Florida   \n",
       "9990       Dave Brooks   Consumer  United States       Costa Mesa  California   \n",
       "9991       Dave Brooks   Consumer  United States       Costa Mesa  California   \n",
       "9992       Dave Brooks   Consumer  United States       Costa Mesa  California   \n",
       "9993      Chris Cortes   Consumer  United States      Westminster  California   \n",
       "\n",
       "      Postal Code Region       Product ID         Category Sub-Category  \\\n",
       "0           42420  South  FUR-BO-10001798        Furniture    Bookcases   \n",
       "1           42420  South  FUR-CH-10000454        Furniture       Chairs   \n",
       "2           90036   West  OFF-LA-10000240  Office Supplies       Labels   \n",
       "3           33311  South  FUR-TA-10000577        Furniture       Tables   \n",
       "4           33311  South  OFF-ST-10000760  Office Supplies      Storage   \n",
       "...           ...    ...              ...              ...          ...   \n",
       "9989        33180  South  FUR-FU-10001889        Furniture  Furnishings   \n",
       "9990        92627   West  FUR-FU-10000747        Furniture  Furnishings   \n",
       "9991        92627   West  TEC-PH-10003645       Technology       Phones   \n",
       "9992        92627   West  OFF-PA-10004041  Office Supplies        Paper   \n",
       "9993        92683   West  OFF-AP-10002684  Office Supplies   Appliances   \n",
       "\n",
       "                                           Product Name     Sales  Quantity  \\\n",
       "0                     Bush Somerset Collection Bookcase  261.9600         2   \n",
       "1     Hon Deluxe Fabric Upholstered Stacking Chairs,...  731.9400         3   \n",
       "2     Self-Adhesive Address Labels for Typewriters b...   14.6200         2   \n",
       "3         Bretford CR4500 Series Slim Rectangular Table  957.5775         5   \n",
       "4                        Eldon Fold 'N Roll Cart System   22.3680         2   \n",
       "...                                                 ...       ...       ...   \n",
       "9989                             Ultra Door Pull Handle   25.2480         3   \n",
       "9990  Tenex B1-RE Series Chair Mats for Low Pile Car...   91.9600         2   \n",
       "9991                              Aastra 57i VoIP phone  258.5760         2   \n",
       "9992  It's Hot Message Books with Stickers, 2 3/4\" x 5\"   29.6000         4   \n",
       "9993  Acco 7-Outlet Masterpiece Power Center, Wihtou...  243.1600         2   \n",
       "\n",
       "      Discount    Profit  \n",
       "0         0.00   41.9136  \n",
       "1         0.00  219.5820  \n",
       "2         0.00    6.8714  \n",
       "3         0.45 -383.0310  \n",
       "4         0.20    2.5164  \n",
       "...        ...       ...  \n",
       "9989      0.20    4.1028  \n",
       "9990      0.00   15.6332  \n",
       "9991      0.20   19.3932  \n",
       "9992      0.00   13.3200  \n",
       "9993      0.00   72.9480  \n",
       "\n",
       "[9994 rows x 20 columns]"
      ]
     },
     "execution_count": 5,
     "metadata": {},
     "output_type": "execute_result"
    }
   ],
   "source": [
    "store_data"
   ]
  },
  {
   "cell_type": "code",
   "execution_count": 6,
   "id": "b23af9be",
   "metadata": {
    "execution": {
     "iopub.execute_input": "2022-03-12T09:47:18.335056Z",
     "iopub.status.busy": "2022-03-12T09:47:18.334079Z",
     "iopub.status.idle": "2022-03-12T09:47:18.592989Z",
     "shell.execute_reply": "2022-03-12T09:47:18.593459Z",
     "shell.execute_reply.started": "2022-03-12T09:17:23.345830Z"
    },
    "papermill": {
     "duration": 0.276359,
     "end_time": "2022-03-12T09:47:18.593624",
     "exception": false,
     "start_time": "2022-03-12T09:47:18.317265",
     "status": "completed"
    },
    "tags": []
   },
   "outputs": [],
   "source": [
    "# here first we convert our datatype to datetime datatype\n",
    "store_data['Ship Date'] = pd.to_datetime(store_data['Ship Date'])\n",
    "store_data['Order Date'] = pd.to_datetime(store_data['Order Date'])\n",
    "\n",
    "# now we convert our date into dd-mm-yyyy formate but it remain in str datatype\n",
    "store_data['Ship Date']=store_data['Ship Date'].dt.strftime('%d-%m-%Y')\n",
    "store_data['Order Date']=store_data['Order Date'].dt.strftime('%d-%m-%Y')\n",
    "\n",
    "# now if convert datatype our date formate will be change to yyyy-mm-dd\n",
    "store_data['Ship Date'] = pd.to_datetime(store_data['Ship Date'])\n",
    "store_data['Order Date'] = pd.to_datetime(store_data['Order Date'])"
   ]
  },
  {
   "cell_type": "markdown",
   "id": "e8cfa070",
   "metadata": {
    "papermill": {
     "duration": 0.013545,
     "end_time": "2022-03-12T09:47:18.620681",
     "exception": false,
     "start_time": "2022-03-12T09:47:18.607136",
     "status": "completed"
    },
    "tags": []
   },
   "source": [
    " # > **Each city sales**"
   ]
  },
  {
   "cell_type": "code",
   "execution_count": 7,
   "id": "0d44f7f7",
   "metadata": {
    "execution": {
     "iopub.execute_input": "2022-03-12T09:47:18.652040Z",
     "iopub.status.busy": "2022-03-12T09:47:18.651056Z",
     "iopub.status.idle": "2022-03-12T09:47:18.657416Z",
     "shell.execute_reply": "2022-03-12T09:47:18.657943Z",
     "shell.execute_reply.started": "2022-03-12T09:17:23.732053Z"
    },
    "papermill": {
     "duration": 0.023722,
     "end_time": "2022-03-12T09:47:18.658108",
     "exception": false,
     "start_time": "2022-03-12T09:47:18.634386",
     "status": "completed"
    },
    "tags": []
   },
   "outputs": [],
   "source": [
    "city_sale = store_data.groupby(['City']).Sales.sum()"
   ]
  },
  {
   "cell_type": "code",
   "execution_count": 8,
   "id": "59feea90",
   "metadata": {
    "execution": {
     "iopub.execute_input": "2022-03-12T09:47:18.688614Z",
     "iopub.status.busy": "2022-03-12T09:47:18.687632Z",
     "iopub.status.idle": "2022-03-12T09:47:18.691369Z",
     "shell.execute_reply": "2022-03-12T09:47:18.691896Z",
     "shell.execute_reply.started": "2022-03-12T09:17:23.743638Z"
    },
    "papermill": {
     "duration": 0.020709,
     "end_time": "2022-03-12T09:47:18.692064",
     "exception": false,
     "start_time": "2022-03-12T09:47:18.671355",
     "status": "completed"
    },
    "tags": []
   },
   "outputs": [],
   "source": [
    "import matplotlib.pyplot as plt"
   ]
  },
  {
   "cell_type": "code",
   "execution_count": 9,
   "id": "76b9af00",
   "metadata": {
    "execution": {
     "iopub.execute_input": "2022-03-12T09:47:18.722447Z",
     "iopub.status.busy": "2022-03-12T09:47:18.721539Z",
     "iopub.status.idle": "2022-03-12T09:47:18.725493Z",
     "shell.execute_reply": "2022-03-12T09:47:18.726048Z",
     "shell.execute_reply.started": "2022-03-12T09:17:23.757686Z"
    },
    "papermill": {
     "duration": 0.020751,
     "end_time": "2022-03-12T09:47:18.726206",
     "exception": false,
     "start_time": "2022-03-12T09:47:18.705455",
     "status": "completed"
    },
    "tags": []
   },
   "outputs": [],
   "source": [
    "city_sale = city_sale.sort_values(ascending = False)"
   ]
  },
  {
   "cell_type": "code",
   "execution_count": 10,
   "id": "30b369b1",
   "metadata": {
    "execution": {
     "iopub.execute_input": "2022-03-12T09:47:18.756826Z",
     "iopub.status.busy": "2022-03-12T09:47:18.755881Z",
     "iopub.status.idle": "2022-03-12T09:47:19.080004Z",
     "shell.execute_reply": "2022-03-12T09:47:19.080480Z",
     "shell.execute_reply.started": "2022-03-12T09:17:23.774489Z"
    },
    "papermill": {
     "duration": 0.341126,
     "end_time": "2022-03-12T09:47:19.080639",
     "exception": false,
     "start_time": "2022-03-12T09:47:18.739513",
     "status": "completed"
    },
    "tags": []
   },
   "outputs": [
    {
     "data": {
      "text/plain": [
       "<AxesSubplot:xlabel='City'>"
      ]
     },
     "execution_count": 10,
     "metadata": {},
     "output_type": "execute_result"
    },
    {
     "data": {
      "image/png": "[encoded data removed]",
      "text/plain": [
       "<Figure size 432x288 with 1 Axes>"
      ]
     },
     "metadata": {
      "needs_background": "light"
     },
     "output_type": "display_data"
    }
   ],
   "source": [
    "city_sale[:20].plot.bar(y='sales',rot=90)"
   ]
  },
  {
   "cell_type": "markdown",
   "id": "8de85ca4",
   "metadata": {
    "papermill": {
     "duration": 0.014508,
     "end_time": "2022-03-12T09:47:19.112427",
     "exception": false,
     "start_time": "2022-03-12T09:47:19.097919",
     "status": "completed"
    },
    "tags": []
   },
   "source": [
    "# **Which Category has maximum purchase **"
   ]
  },
  {
   "cell_type": "code",
   "execution_count": 11,
   "id": "c044b010",
   "metadata": {
    "execution": {
     "iopub.execute_input": "2022-03-12T09:47:19.156807Z",
     "iopub.status.busy": "2022-03-12T09:47:19.155936Z",
     "iopub.status.idle": "2022-03-12T09:47:19.161180Z",
     "shell.execute_reply": "2022-03-12T09:47:19.161574Z",
     "shell.execute_reply.started": "2022-03-12T09:17:24.120396Z"
    },
    "papermill": {
     "duration": 0.034288,
     "end_time": "2022-03-12T09:47:19.161749",
     "exception": false,
     "start_time": "2022-03-12T09:47:19.127461",
     "status": "completed"
    },
    "tags": []
   },
   "outputs": [],
   "source": [
    "Category = store_data.groupby('Category').Category.count()\n",
    "Profit = store_data.groupby('Category').Profit.sum()\n",
    "cat_pro = pd.DataFrame({'Category_sale':Category,'Profit':Profit})"
   ]
  },
  {
   "cell_type": "code",
   "execution_count": 12,
   "id": "9aa542f0",
   "metadata": {
    "execution": {
     "iopub.execute_input": "2022-03-12T09:47:19.194429Z",
     "iopub.status.busy": "2022-03-12T09:47:19.193855Z",
     "iopub.status.idle": "2022-03-12T09:47:19.202786Z",
     "shell.execute_reply": "2022-03-12T09:47:19.203341Z",
     "shell.execute_reply.started": "2022-03-12T09:25:24.937693Z"
    },
    "papermill": {
     "duration": 0.026896,
     "end_time": "2022-03-12T09:47:19.203506",
     "exception": false,
     "start_time": "2022-03-12T09:47:19.176610",
     "status": "completed"
    },
    "tags": []
   },
   "outputs": [
    {
     "data": {
      "text/html": [
       "<div>\n",
       "<style scoped>\n",
       "    .dataframe tbody tr th:only-of-type {\n",
       "        vertical-align: middle;\n",
       "    }\n",
       "\n",
       "    .dataframe tbody tr th {\n",
       "        vertical-align: top;\n",
       "    }\n",
       "\n",
       "    .dataframe thead th {\n",
       "        text-align: right;\n",
       "    }\n",
       "</style>\n",
       "<table border=\"1\" class=\"dataframe\">\n",
       "  <thead>\n",
       "    <tr style=\"text-align: right;\">\n",
       "      <th></th>\n",
       "      <th>Category</th>\n",
       "      <th>Category_sale</th>\n",
       "      <th>Profit</th>\n",
       "    </tr>\n",
       "  </thead>\n",
       "  <tbody>\n",
       "    <tr>\n",
       "      <th>0</th>\n",
       "      <td>Furniture</td>\n",
       "      <td>2121</td>\n",
       "      <td>18451.2728</td>\n",
       "    </tr>\n",
       "    <tr>\n",
       "      <th>1</th>\n",
       "      <td>Office Supplies</td>\n",
       "      <td>6026</td>\n",
       "      <td>122490.8008</td>\n",
       "    </tr>\n",
       "    <tr>\n",
       "      <th>2</th>\n",
       "      <td>Technology</td>\n",
       "      <td>1847</td>\n",
       "      <td>145454.9481</td>\n",
       "    </tr>\n",
       "  </tbody>\n",
       "</table>\n",
       "</div>"
      ],
      "text/plain": [
       "          Category  Category_sale       Profit\n",
       "0        Furniture           2121   18451.2728\n",
       "1  Office Supplies           6026  122490.8008\n",
       "2       Technology           1847  145454.9481"
      ]
     },
     "execution_count": 12,
     "metadata": {},
     "output_type": "execute_result"
    }
   ],
   "source": [
    "cat_pro =cat_pro.reset_index()\n",
    "cat_pro"
   ]
  },
  {
   "cell_type": "code",
   "execution_count": 13,
   "id": "aeea31d2",
   "metadata": {
    "execution": {
     "iopub.execute_input": "2022-03-12T09:47:19.238406Z",
     "iopub.status.busy": "2022-03-12T09:47:19.237463Z",
     "iopub.status.idle": "2022-03-12T09:47:19.606934Z",
     "shell.execute_reply": "2022-03-12T09:47:19.607378Z",
     "shell.execute_reply.started": "2022-03-12T09:42:42.310918Z"
    },
    "papermill": {
     "duration": 0.388382,
     "end_time": "2022-03-12T09:47:19.607537",
     "exception": false,
     "start_time": "2022-03-12T09:47:19.219155",
     "status": "completed"
    },
    "tags": []
   },
   "outputs": [
    {
     "data": {
      "image/png": "[encoded data removed]",
      "text/plain": [
       "<Figure size 432x288 with 2 Axes>"
      ]
     },
     "metadata": {
      "needs_background": "light"
     },
     "output_type": "display_data"
    }
   ],
   "source": [
    "fig,ax1 = plt.subplots() # use to make two plot on same \n",
    "\n",
    "ax1.set_xlabel('Category')\n",
    "ax1.set_ylabel('No of Sales',color = 'tab:blue')\n",
    "ax1.bar(cat_pro['Category'],cat_pro['Category_sale'],color = 'tab:blue',align='center',width=0.3)\n",
    "ax1.tick_params(axis='y', labelcolor='tab:blue') # to colour y lables(values)\n",
    "\n",
    "ax2 = ax1.twinx() # instantiate a second axes that shares the same x-axis\n",
    "\n",
    "ax2.set_ylabel('Profit',color= 'tab:red')\n",
    "ax2.bar(cat_pro['Category'],cat_pro['Profit'],color = 'tab:red',align='edge',width=0.3)\n",
    "ax2.tick_params(axis='y', labelcolor='tab:red')\n",
    "\n",
    "fig.tight_layout()  # otherwise the right y-label is slightly clipped\n",
    "plt.show()"
   ]
  },
  {
   "cell_type": "code",
   "execution_count": null,
   "id": "a555a1c5",
   "metadata": {
    "papermill": {
     "duration": 0.01568,
     "end_time": "2022-03-12T09:47:19.638972",
     "exception": false,
     "start_time": "2022-03-12T09:47:19.623292",
     "status": "completed"
    },
    "tags": []
   },
   "outputs": [],
   "source": []
  }
 ],
 "metadata": {
  "kernelspec": {
   "display_name": "Python 3",
   "language": "python",
   "name": "python3"
  },
  "language_info": {
   "codemirror_mode": {
    "name": "ipython",
    "version": 3
   },
   "file_extension": ".py",
   "mimetype": "text/x-python",
   "name": "python",
   "nbconvert_exporter": "python",
   "pygments_lexer": "ipython3",
   "version": "3.7.12"
  },
  "papermill": {
   "default_parameters": {},
   "duration": 11.644279,
   "end_time": "2022-03-12T09:47:20.265002",
   "environment_variables": {},
   "exception": null,
   "input_path": "__notebook__.ipynb",
   "output_path": "__notebook__.ipynb",
   "parameters": {},
   "start_time": "2022-03-12T09:47:08.620723",
   "version": "2.3.3"
  }
 },
 "nbformat": 4,
 "nbformat_minor": 5
}
